{
  "cells": [
    {
      "cell_type": "code",
      "execution_count": null,
      "metadata": {
        "id": "6NSy7Et5UfYa"
      },
      "outputs": [],
      "source": [
        "\n",
        "import numpy as np\n",
        "import matplotlib.pyplot as plt\n",
        "import librosa as lib\n",
        "import librosa.display\n",
        "import cv2\n",
        "import os\n"
      ]
    },
    {
      "cell_type": "code",
      "execution_count": null,
      "metadata": {
        "id": "G0GGb7wGVRFA"
      },
      "outputs": [],
      "source": [
        "RAVDESS_path=\"C:/Users/USER/Desktop/Sara Abbas 20190716/audio_speech_actors_01-24\"\n"
      ]
    },
    {
      "cell_type": "code",
      "execution_count": null,
      "metadata": {
        "id": "O8sR8FZtVpoK"
      },
      "outputs": [],
      "source": [
        "HOP_SIZE=512\n",
        "def get_mel_spectrogram(wav_file, destination_to_save):\n",
        "    scale , sr = librosa.load(wav_file, sr = 22050) #sr= 22050 before\n",
        "    D = librosa.amplitude_to_db(np.abs(librosa.stft(scale, hop_length=HOP_SIZE)), ref=np.max)\n",
        "    librosa.display.specshow(D, y_axis='log', sr=sr, hop_length=HOP_SIZE, x_axis='time')\n",
        "    plt.axis('off')\n",
        "    plt.savefig(destination_to_save, format='png', bbox_inches='tight')\n",
        "\n"
      ]
    },
    {
      "cell_type": "code",
      "execution_count": null,
      "metadata": {
        "id": "lDdYArhZfK8C"
      },
      "outputs": [],
      "source": [
        "# get_mel_spectrogram(\"/content/drive/MyDrive/EmotionDetectionProject/Datasets/RAVDESS/audio_speech_actors_01-24/Actor_22/03-01-03-01-02-02-22.wav\",\"/content/drive/MyDrive/EmotionDetectionProject/Datasets/RAVDESS_Trial/AllMelSpectrograms/hh\")"
      ]
    },
    {
      "cell_type": "code",
      "execution_count": null,
      "metadata": {
        "colab": {
          "base_uri": "https://localhost:8080/"
        },
        "id": "Vw2gfQSXLvy8",
        "outputId": "a6279bf7-db5a-436b-fa36-b37cb9093607"
      },
      "outputs": [
        {
          "data": {
            "text/plain": [
              "0"
            ]
          },
          "execution_count": 30,
          "metadata": {},
          "output_type": "execute_result"
        }
      ],
      "source": [
        "parent_dest=\"C:/Users/USER/Desktop/Sara Abbas 20190716/MelSpectrograms_Again_Uni\"\n",
        "c=0\n",
        "for f in os.listdir(parent_dest):\n",
        " c+=1\n",
        "c"
      ]
    },
    {
      "cell_type": "markdown",
      "metadata": {
        "id": "_R5SrPCmc36Z"
      },
      "source": [
        "Emotion (01 = neutral, 02 = calm, 03 = happy, 04 = sad, 05 = angry, 06 = fearful, 07 = disgust, 08 = surprised)"
      ]
    },
    {
      "cell_type": "code",
      "execution_count": null,
      "metadata": {
        "id": "TPQ1xbb8abRh"
      },
      "outputs": [],
      "source": [
        "c=0\n",
        "file_path=[]\n",
        "emotion=[]\n",
        "for folderN in os.listdir(RAVDESS_path):\n",
        "  #if folderN!= \"audio_speech_actors_01-24\":\n",
        "  for fileN in os.listdir(RAVDESS_path+\"/\"+folderN):\n",
        "    fileP=RAVDESS_path+\"/\"+folderN+\"/\"+fileN\n",
        "    #print(fileP)\n",
        "    c+=1\n",
        "    emo= fileN.split('-')[2]\n",
        "    emo=int(emo)\n",
        "    #print(emo)\n",
        "\n",
        "    file_path.append(fileP)\n",
        "    emotion.append(emo)\n",
        "\n",
        "print(c)"
      ]
    },
    {
      "cell_type": "code",
      "execution_count": null,
      "metadata": {
        "colab": {
          "base_uri": "https://localhost:8080/"
        },
        "id": "4hyJOkqfdeVN",
        "outputId": "8ab72a85-4616-4001-a9ec-a1280680a929"
      },
      "outputs": [
        {
          "name": "stdout",
          "output_type": "stream",
          "text": [
            "1440\n",
            "1440\n"
          ]
        }
      ],
      "source": [
        "print(len(file_path))\n",
        "print(len(emotion))"
      ]
    },
    {
      "cell_type": "code",
      "execution_count": null,
      "metadata": {
        "id": "4kp-R--Ydns-"
      },
      "outputs": [],
      "source": [
        "parent_dest=\"C:/Users/USER/Desktop/Sara Abbas 20190716/MelSpectrograms_Again_Uni\"\n",
        "for f in file_path:\n",
        "  fileN=f.split(\"/\")[7].split(\".\")[0]\n",
        "  dest=parent_dest+\"/\"+fileN+\".png\"\n",
        "  if  os.path.exists(dest):\n",
        "    continue\n",
        "  else:\n",
        "    \n",
        "    #print(fileN)\n",
        "    #print(dest)\n",
        "    get_mel_spectrogram(f,dest)\n"
      ]
    },
    {
      "cell_type": "code",
      "execution_count": null,
      "metadata": {
        "id": "lMwa483zOTw5",
        "outputId": "d2bfb3bc-3ec0-421e-a4e0-a80febedac21"
      },
      "outputs": [
        {
          "data": {
            "text/plain": [
              "1440"
            ]
          },
          "execution_count": 34,
          "metadata": {},
          "output_type": "execute_result"
        }
      ],
      "source": [
        "parent_dest=\"C:/Users/USER/Desktop/Sara Abbas 20190716/MelSpectrograms_Again_Uni\"\n",
        "c=0\n",
        "for f in os.listdir(parent_dest):\n",
        " c+=1\n",
        "c"
      ]
    },
    {
      "cell_type": "code",
      "execution_count": null,
      "metadata": {
        "id": "KwAWHdvqHinv"
      },
      "outputs": [],
      "source": [
        "allimgs=[]\n",
        "lbls=[]\n",
        "for f in os.listdir(parent_dest):\n",
        "    #print(f)\n",
        "    #fileN=f.split(\"/\")[5].split(\".\")[0]\n",
        "    #print(fileN)\n",
        "    emo= f.split('-')[2]\n",
        "    emo=int(emo)\n",
        "    #print(emo)\n",
        "    lbls.append(emo)\n",
        "    fileP= parent_dest+\"/\"+f\n",
        "    #print(fileP)\n",
        "    img= cv2.imread(fileP)\n",
        "    allimgs.append(img)"
      ]
    },
    {
      "cell_type": "code",
      "execution_count": null,
      "metadata": {
        "id": "kM3TQJQ6Hinv"
      },
      "outputs": [],
      "source": [
        "#allmelsimgs=np.save(\"C:/Users/USER/Desktop/Sara Abbas 20190716/MelSpectrograms_Uni_imgs.npy\",allimgs)"
      ]
    },
    {
      "cell_type": "code",
      "execution_count": null,
      "metadata": {
        "id": "QlL9bDQFgWXL"
      },
      "outputs": [],
      "source": [
        "#allmelslabels= np.save(\"C:/Users/USER/Desktop/Sara Abbas 20190716/MelSpectrograms_Uni_lbls.npy\",lbls)\n"
      ]
    },
    {
      "cell_type": "code",
      "execution_count": null,
      "metadata": {
        "id": "vUw4U_18S798"
      },
      "outputs": [],
      "source": [
        "# parent_dest=\"/content/drive/MyDrive/EmotionDetectionProject/Datasets/RAVDESS_Trial/AllMelSpectrogramsAgain\"\n",
        "# c=0\n",
        "# for f in os.listdir(parent_dest):\n",
        "#   print(f)\n",
        "#   c+=1\n",
        "\n",
        "# print(c)"
      ]
    },
    {
      "cell_type": "code",
      "execution_count": null,
      "metadata": {
        "id": "07l-vP9jHinw"
      },
      "outputs": [],
      "source": []
    }
  ],
  "metadata": {
    "colab": {
      "provenance": []
    },
    "kernelspec": {
      "display_name": "Python 3",
      "name": "python3"
    },
    "language_info": {
      "codemirror_mode": {
        "name": "ipython",
        "version": 3
      },
      "file_extension": ".py",
      "mimetype": "text/x-python",
      "name": "python",
      "nbconvert_exporter": "python",
      "pygments_lexer": "ipython3",
      "version": "3.9.16"
    }
  },
  "nbformat": 4,
  "nbformat_minor": 0
}
