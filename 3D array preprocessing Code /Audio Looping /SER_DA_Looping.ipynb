{
  "nbformat": 4,
  "nbformat_minor": 0,
  "metadata": {
    "colab": {
      "provenance": []
    },
    "kernelspec": {
      "name": "python3",
      "display_name": "Python 3"
    },
    "language_info": {
      "name": "python"
    },
    "gpuClass": "standard"
  },
  "cells": [
    {
      "cell_type": "code",
      "source": [
        "!pip install pydub"
      ],
      "metadata": {
        "colab": {
          "base_uri": "https://localhost:8080/"
        },
        "id": "UESQGjM9-JK2",
        "outputId": "d244507f-8cd7-4927-b5c6-9a36c8bcb238"
      },
      "execution_count": null,
      "outputs": [
        {
          "output_type": "stream",
          "name": "stdout",
          "text": [
            "Looking in indexes: https://pypi.org/simple, https://us-python.pkg.dev/colab-wheels/public/simple/\n",
            "Requirement already satisfied: pydub in /usr/local/lib/python3.9/dist-packages (0.25.1)\n"
          ]
        }
      ]
    },
    {
      "cell_type": "code",
      "source": [
        "from google.colab import drive\n",
        "drive.mount(\"/content/drive\")\n",
        "import pandas as pd\n",
        "import numpy as np\n",
        "import os\n",
        "import librosa\n",
        "#from python_speech_features import mfcc\n",
        "import xarray as xr\n",
        "from pydub import AudioSegment"
      ],
      "metadata": {
        "colab": {
          "base_uri": "https://localhost:8080/"
        },
        "id": "Z1CWoEBp_NNR",
        "outputId": "044b1902-1f00-4250-d0c5-004851c5df45"
      },
      "execution_count": null,
      "outputs": [
        {
          "output_type": "stream",
          "name": "stdout",
          "text": [
            "Drive already mounted at /content/drive; to attempt to forcibly remount, call drive.mount(\"/content/drive\", force_remount=True).\n"
          ]
        }
      ]
    },
    {
      "cell_type": "code",
      "source": [
        "# \n",
        "#  # enter the path of your audio file\n",
        "# audio_file = AudioSegment.from_mp3(\"/content/drive/MyDrive/EmotionDetectionProject/Full Dataset/42_C_happy.wav\")\n",
        "\n",
        "# num_loops = 5\n",
        "\n",
        "# # Create a new audio file with the looped audio\n",
        "# looped_audio = audio_file * num_loops\n",
        "\n",
        "# # Export the looped audio to a file\n",
        "# looped_audio.export(\"/content/looped_audio.mp3\", format=\"mp3\")\n"
      ],
      "metadata": {
        "id": "SNihVTB2-ENh"
      },
      "execution_count": null,
      "outputs": []
    },
    {
      "cell_type": "markdown",
      "source": [
        "# Trial"
      ],
      "metadata": {
        "id": "d1CyPvTYKObP"
      }
    },
    {
      "cell_type": "code",
      "source": [
        "# # from pydub import AudioSegment\n",
        "\n",
        "# # Load the audio file\n",
        "# audio_file = AudioSegment.from_file(\"/content/drive/MyDrive/EmotionDetectionProject/Full Dataset/7274_T_fear.wav\")\n",
        "\n",
        "# # Set the number of times to loop the audio\n",
        "# num_loops = 5\n",
        "\n",
        "# # Set the desired duration in milliseconds\n",
        "# duration_ms = 5000\n",
        "\n",
        "# # Calculate the number of times to loop to achieve the desired duration\n",
        "# loop_count = int(duration_ms / len(audio_file) * num_loops)\n",
        "\n",
        "# # Create a new audio file with the looped audio\n",
        "# looped_audio = audio_file * loop_count\n",
        "\n",
        "# # Trim the audio to the desired duration\n",
        "# looped_audio = looped_audio[:duration_ms]\n",
        "\n",
        "# # Export the looped audio to a file\n",
        "# looped_audio.export(\"/content/looped_audio.mp3\", format=\"mp3\")"
      ],
      "metadata": {
        "colab": {
          "base_uri": "https://localhost:8080/"
        },
        "id": "s2eKDl4sIKQb",
        "outputId": "637f2bac-2b3c-4a93-fe53-e19600448511"
      },
      "execution_count": null,
      "outputs": [
        {
          "output_type": "execute_result",
          "data": {
            "text/plain": [
              "<_io.BufferedRandom name='/content/looped_audio.mp3'>"
            ]
          },
          "metadata": {},
          "execution_count": 21
        }
      ]
    },
    {
      "cell_type": "code",
      "source": [
        "# looped_audio"
      ],
      "metadata": {
        "id": "3Fswd7OsJgnD"
      },
      "execution_count": null,
      "outputs": []
    },
    {
      "cell_type": "code",
      "source": [
        "# len(looped_audio)"
      ],
      "metadata": {
        "id": "6rK7qWcmJYkQ"
      },
      "execution_count": null,
      "outputs": []
    },
    {
      "cell_type": "markdown",
      "source": [
        "# Looping all audio files"
      ],
      "metadata": {
        "id": "-4dhForJKRXx"
      }
    },
    {
      "cell_type": "code",
      "source": [],
      "metadata": {
        "id": "2LIJ6bhMxTKR"
      },
      "execution_count": null,
      "outputs": []
    },
    {
      "cell_type": "code",
      "source": [
        "FullDataSet_path= \"/content/drive/MyDrive/EmotionDetectionProject/Full Dataset/\"\n",
        "\n",
        "# Set the number of times to loop the audio\n",
        "num_loops = 5\n",
        "\n",
        "# Set the desired duration in milliseconds\n",
        "duration_ms = 30000\n",
        "audio_files=[]\n",
        "\n",
        "for filename in os.listdir(FullDataSet_path):\n",
        "  file_path=FullDataSet_path+'/'+filename\n",
        "  #print(file_path)\n",
        "  audio_files.append(AudioSegment.from_file(file_path))\n",
        "  #audio_file= AudioSegment.from_file(file_path)\n",
        "\n",
        "# max(len(i) for i in audio_files )\n",
        "\n",
        "# [max(len(i)) for i in audio_files].count()\n",
        "\n",
        "\n"
      ],
      "metadata": {
        "id": "ejZoNtAmKM2G"
      },
      "execution_count": null,
      "outputs": []
    },
    {
      "cell_type": "code",
      "source": [
        "file_names=[]\n",
        "for filename in os.listdir(FullDataSet_path):\n",
        "  file_names.append(filename)\n",
        "  \n",
        "  "
      ],
      "metadata": {
        "id": "SXj75t0c4KwU"
      },
      "execution_count": null,
      "outputs": []
    },
    {
      "cell_type": "code",
      "source": [
        "\n",
        "maxx= max(len(i) for i in audio_files )\n",
        "\n",
        "# maxes=[]\n",
        "# for i in audio_files:\n",
        "#   if len(i)==maxx:\n",
        "#     maxes.append(i)\n",
        "# len(maxes)  \n",
        "\n",
        "max(len(i) for i in audio_files )"
      ],
      "metadata": {
        "colab": {
          "base_uri": "https://localhost:8080/"
        },
        "id": "gMPG3Qmp0oFN",
        "outputId": "974e802c-d470-4512-8290-0943c34f1697"
      },
      "execution_count": null,
      "outputs": [
        {
          "output_type": "execute_result",
          "data": {
            "text/plain": [
              "5272"
            ]
          },
          "metadata": {},
          "execution_count": 11
        }
      ]
    },
    {
      "cell_type": "code",
      "source": [
        "minn= min(len(i) for i in audio_files )\n",
        "c=0\n",
        "for i in audio_files:\n",
        "  if len(i)==minn:\n",
        "    print(file_names[c])\n",
        "  c+=1"
      ],
      "metadata": {
        "colab": {
          "base_uri": "https://localhost:8080/"
        },
        "id": "OfIaPlYA5s3o",
        "outputId": "5862eab7-bc9f-4e17-b1c0-518caf446131"
      },
      "execution_count": null,
      "outputs": [
        {
          "output_type": "stream",
          "name": "stdout",
          "text": [
            "7274_T_fear.wav\n"
          ]
        }
      ]
    },
    {
      "cell_type": "code",
      "source": [
        "len(audio_files)"
      ],
      "metadata": {
        "colab": {
          "base_uri": "https://localhost:8080/"
        },
        "id": "Bkazsuum1jFK",
        "outputId": "3c0f650c-ae26-48ee-d00d-694b09867b06"
      },
      "execution_count": null,
      "outputs": [
        {
          "output_type": "execute_result",
          "data": {
            "text/plain": [
              "10898"
            ]
          },
          "metadata": {},
          "execution_count": 12
        }
      ]
    },
    {
      "cell_type": "code",
      "source": [
        "\n",
        "# for audio_file in audio_files:\n",
        "#   print(audio_file)"
      ],
      "metadata": {
        "id": "CMB_DQKL3_tH"
      },
      "execution_count": null,
      "outputs": []
    },
    {
      "cell_type": "code",
      "source": [
        "\n",
        "\n",
        "num_loops = 5 # Initial number of times to loop the audio\n",
        "\n",
        "duration_ms = 5000 # Desired duration in milliseconds\n",
        "\n",
        "c=0 # Counter included in exported file names \n",
        "\n",
        "for audio_file in audio_files: # Audio files is a list of the audio samples as AudioSegment objects\n",
        "\n",
        "  # Calculating the number of times to loop the audio to reach the pre-defined duration\n",
        "  loop_count = int(duration_ms / len(audio_file) * num_loops)\n",
        "\n",
        "  # Creating a new audio object with the looped audio\n",
        "  looped_audio = audio_file * loop_count\n",
        "\n",
        "  # Trimming the audio to the pre-defined duration\n",
        "  looped_audio = looped_audio[:duration_ms]\n",
        "\n",
        "  # Exporting the looped audio to a file\n",
        "  looped_audio.export(\"/content/drive/MyDrive/EmotionDetectionProject/Datasets/FullDataset_Looped/\"+file_names[c], format=\"mp3\")\n",
        "  c+=1\n"
      ],
      "metadata": {
        "id": "6q3Fxr7v05Ap"
      },
      "execution_count": null,
      "outputs": []
    },
    {
      "cell_type": "code",
      "source": [],
      "metadata": {
        "id": "fPNB2rQvDTEo"
      },
      "execution_count": null,
      "outputs": []
    },
    {
      "cell_type": "code",
      "source": [
        "\n",
        "  # # Calculate the number of times to loop to achieve the desired duration\n",
        "  # loop_count = int(duration_ms / len(audio_file) * num_loops)\n",
        "\n",
        "  # # Create a new audio file with the looped audio\n",
        "  # looped_audio = audio_file * loop_count\n",
        "\n",
        "  # # Trim the audio to the desired duration\n",
        "  # looped_audio = looped_audio[:duration_ms]\n",
        "\n",
        "  # # Export the looped audio to a file\n",
        "  # looped_audio.export(\"/content/looped_audio.mp3\", format=\"mp3\")\n",
        "\n",
        "\n",
        "    # part = re.split('_|\\.',filename)\n",
        "    # #print(part)\n",
        "    # emotion.append(part[2])\n",
        "    # file_path.append(FullDataSet_path+'/'+filename)"
      ],
      "metadata": {
        "id": "P2nrWluK07Oe"
      },
      "execution_count": null,
      "outputs": []
    },
    {
      "cell_type": "code",
      "source": [
        "import re\n",
        "\n",
        "emotion = []\n",
        "file_path = []\n",
        "for filename in os.listdir(FullDataSet_path):\n",
        "    part = re.split('_|\\.',filename)\n",
        "    #print(part)\n",
        "    emotion.append(part[2])\n",
        "    file_path.append(FullDataSet_path+'/'+filename)\n"
      ],
      "metadata": {
        "id": "RxY32O1wK2p8"
      },
      "execution_count": null,
      "outputs": []
    }
  ]
}
